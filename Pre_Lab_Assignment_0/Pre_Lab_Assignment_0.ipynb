{
 "cells": [
  {
   "cell_type": "markdown",
   "metadata": {
    "id": "Hy6xMYbnkRXq"
   },
   "source": [
    "## Setting Up ESP32\n",
    "\n",
    "Follow the instructions in the following document to setup up your ESP32\n",
    "\n",
    "https://docs.google.com/presentation/d/11wjvEkjIHdRmbs6ywGo_-V1T3zmfsmto/edit?usp=sharing&ouid=105392376076988494235&rtpof=true&sd=true\n",
    "\n",
    "Once completed, make sure that your JupyterHub account is up and running. To verify, upload a printout of this Jupyter notebook to your classes gradescope.\n",
    "\n",
    "Instructions: Using the command cell line below, print your the following statement:\n",
    "\n",
    "**\"Hello, World! My name is 'Your name here'.\"**\n",
    "\n",
    "Then, print the notebook to a pdf file and upload it to gradescope by the end of the day.\n",
    "\n",
    "***File -> Print -> Save As *.pdf***\n",
    "\n",
    "Congratulations! You're all setup for this course!"
   ]
  },
  {
   "cell_type": "code",
   "execution_count": 2,
   "metadata": {
    "id": "OMvv3q8aluzt"
   },
   "outputs": [],
   "source": [
    "# Print \"Hello, World! My name is 'Your name here'.\" \n",
    "\n",
    "# You can use the following command to print the string statement. print()\n"
   ]
  },
  {
   "cell_type": "code",
   "execution_count": 3,
   "metadata": {
    "id": "kJdygqfRl8Q_"
   },
   "outputs": [
    {
     "name": "stdout",
     "output_type": "stream",
     "text": [
      "\n"
     ]
    }
   ],
   "source": [
    "#Try it for yourself here\n",
    "print()"
   ]
  }
 ],
 "metadata": {
  "colab": {
   "provenance": []
  },
  "kernelspec": {
   "display_name": "Python 3 (ipykernel)",
   "language": "python",
   "name": "python3"
  },
  "language_info": {
   "codemirror_mode": {
    "name": "ipython",
    "version": 3
   },
   "file_extension": ".py",
   "mimetype": "text/x-python",
   "name": "python",
   "nbconvert_exporter": "python",
   "pygments_lexer": "ipython3",
   "version": "3.11.8"
  }
 },
 "nbformat": 4,
 "nbformat_minor": 4
}
