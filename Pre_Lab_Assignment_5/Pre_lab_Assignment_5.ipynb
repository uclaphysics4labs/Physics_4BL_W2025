{
 "cells": [
  {
   "cell_type": "markdown",
   "metadata": {
    "id": "2KSsd45--9u_"
   },
   "source": [
    "# Single Slit Interefernce\n",
    "\n",
    "Diffraction occus as a result of the wave-like properperties of light. As it interacts with materials, light tends to bend, diffract, around the material. Consider the case where a plane wave approaches a slit of finite width, in the far-field, this wave will have interfered with itself.\n",
    "\n",
    "The distnace angle at which each dark fringe, destructive interefence, occurs is governed by the following relation,\n",
    "\n",
    "$dsin(\\theta_{n}) = \\lambda$\n",
    "\n",
    "where d is the slit width, $\\theta_{n}$ is the angle of the dark fring from center, and $\\lambda$ is the wavelength of light.\n",
    "\n",
    "Futhermore, the overall intenity profile of the diffracted beam in the far-field is,\n",
    "\n",
    "$I(\\theta) = sinc^{2}(\\frac{d\\pi}{\\lambda}sin(\\theta))$\n",
    "\n",
    "where,\n",
    "\n",
    "$sinc(x) = \\frac{sin(x)}{x}$.\n",
    "\n",
    "Also, we can substitute the following,\n",
    "\n",
    "$sin(\\theta) \\approx \\frac{X}{b} $\n",
    "\n",
    "Where X is a distance along the screen and b is the distance to that screen. Therefore, \n",
    "\n",
    "$I(x) = sinc^{2}(\\frac{d\\pi X}{\\lambda b}) = [\\frac{sin(\\alpha)}{\\alpha}]^{2}$ where, $\\alpha = \\frac{d\\pi X}{\\lambda b}$\n"
   ]
  },
  {
   "cell_type": "code",
   "execution_count": null,
   "metadata": {
    "id": "euPet_6v_VKn"
   },
   "outputs": [],
   "source": [
    "import numpy as np\n",
    "import matplotlib.pyplot as plt"
   ]
  },
  {
   "cell_type": "markdown",
   "metadata": {
    "id": "M4KMzDrpL3_b"
   },
   "source": [
    "# Assignment 1.1\n",
    "Plot the intensity equation for single slit diffraction with the following paramters:\n",
    "\n",
    "d = 0.2mm (slit thickness)\n",
    "\n",
    "X = -10 mm to 10 mm (position on screen)\n",
    "\n",
    "$\\lambda$ = 600 nm (wavelength)\n",
    "\n",
    "b = 1 m (slit to screen distance)"
   ]
  },
  {
   "cell_type": "code",
   "execution_count": null,
   "metadata": {
    "id": "XWmal73g_3f3"
   },
   "outputs": [],
   "source": [
    "#Plot the intensity equation for single slit diffraction\n",
    "\n",
    "\n",
    "\n",
    "\n",
    "\n",
    "\n",
    "\n",
    "\n",
    "\n",
    "\n",
    "\n"
   ]
  },
  {
   "cell_type": "markdown",
   "metadata": {
    "id": "b8WrvYgiFkem"
   },
   "source": [
    "# Assignment 1.2\n",
    "\n",
    "From the equation, derive and expression that calculates the dark fringest of the diffraction pattern, i.e. when it does to zero.\n",
    "\n",
    "Plot those fringes on the intensity profile.\n"
   ]
  },
  {
   "cell_type": "code",
   "execution_count": null,
   "metadata": {
    "id": "rQ0d8Tc1GPEr"
   },
   "outputs": [],
   "source": [
    "#Plot the intensity equation for single slit diffraction with vertical lines denoting the dark fringes.\n",
    "\n",
    "\n",
    "\n",
    "\n",
    "\n",
    "\n",
    "\n",
    "\n",
    "\n",
    "\n"
   ]
  },
  {
   "cell_type": "markdown",
   "metadata": {
    "id": "ZeMqtl-QNFsn"
   },
   "source": [
    "# Double Slit Diffraction\n",
    "\n",
    "With the introduction of a secondary slit by which the light can propagate through the intensity profile of the far-field diffraction becomes slight more complicated. Essentially, light from the first slit now has the capability to interfere with the light from the second slit. The result is a interference pattern with the an intensity envelope of the single slit.\n",
    "\n",
    "$I(\\theta) = sinc^{2}(\\frac{d\\pi}{\\lambda}sin(\\theta))cos(\\frac{\\pi D}{\\lambda}sin(\\theta)).$\n",
    "\n",
    "Again, making substituions for $sin(\\theta)$, we arrive at the following intensity equation,\n",
    "\n",
    "$I(x) = sinc^{2}(\\frac{d\\pi X}{\\lambda b})cos^{2}(\\frac{\\pi DX}{\\lambda b})$\n",
    "\n",
    "$I(x) = [\\frac{sin(\\alpha)}{\\alpha}]^{2}cos^{2}(\\frac{\\pi DX}{\\lambda b})$ \n",
    "\n",
    "where, $\\alpha = \\frac{d\\pi X}{\\lambda b}$\n"
   ]
  },
  {
   "cell_type": "markdown",
   "metadata": {
    "id": "ZBZ4y6dLPzgq"
   },
   "source": [
    "# Assignment 2.1\n",
    "Plot the intensity equation for double slit diffraction with the following paramters:\n",
    "\n",
    "d = 0.2mm (slit thickness)\n",
    "\n",
    "X = -10 mm to 10 mm (position on the screen)\n",
    "\n",
    "$\\lambda$ = 600 nm (wavenlenght of the laser)\n",
    "\n",
    "b = 1 m (slit to screen distance)\n",
    "\n",
    "D = 0.5 mm (slit separation)\n",
    "\n",
    "In addition, overlay the single slit diffraction evelope. "
   ]
  },
  {
   "cell_type": "code",
   "execution_count": null,
   "metadata": {
    "id": "AKqHKgJR_SiG"
   },
   "outputs": [],
   "source": [
    "#Plot the intensity equation for  double slit diffraction\n",
    "\n",
    "\n",
    "\n",
    "\n",
    "\n",
    "\n",
    "\n",
    "\n",
    "\n"
   ]
  },
  {
   "cell_type": "markdown",
   "metadata": {
    "id": "kORnfvi0F9AT"
   },
   "source": [
    "# Assignment 2.2\n",
    "\n",
    "From the equation, derive and expression that calculates the dark fringest of the diffraction pattern, i.e. when it goes to zero.\n",
    "\n",
    "Plot those fringes on the intensity profile."
   ]
  },
  {
   "cell_type": "code",
   "execution_count": null,
   "metadata": {
    "id": "DEmFhyHlGBQy"
   },
   "outputs": [],
   "source": [
    "#Plot the intensity equation for double slit diffraction and adding dark fringe locations.\n",
    "\n",
    "\n",
    "\n",
    "\n",
    "\n",
    "\n",
    "\n",
    "\n",
    "\n",
    "\n",
    "\n"
   ]
  },
  {
   "cell_type": "markdown",
   "metadata": {
    "id": "xDcY6ZK4FMdr"
   },
   "source": [
    "*Developed by Javier Carmona 02/2022*\n",
    "\n",
    "*Updated 03/2023*\n",
    "\n",
    "*Updated by Travis Nichols 01/01/2025*"
   ]
  },
  {
   "cell_type": "code",
   "execution_count": null,
   "metadata": {},
   "outputs": [],
   "source": []
  }
 ],
 "metadata": {
  "colab": {
   "provenance": []
  },
  "kernelspec": {
   "display_name": "Python 3 (ipykernel)",
   "language": "python",
   "name": "python3"
  },
  "language_info": {
   "codemirror_mode": {
    "name": "ipython",
    "version": 3
   },
   "file_extension": ".py",
   "mimetype": "text/x-python",
   "name": "python",
   "nbconvert_exporter": "python",
   "pygments_lexer": "ipython3",
   "version": "3.11.8"
  }
 },
 "nbformat": 4,
 "nbformat_minor": 4
}
