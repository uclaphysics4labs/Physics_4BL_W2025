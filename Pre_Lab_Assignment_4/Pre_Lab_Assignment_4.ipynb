{
  "nbformat": 4,
  "nbformat_minor": 0,
  "metadata": {
    "colab": {
      "name": "Pre-Lab Assignment 4",
      "provenance": [],
      "collapsed_sections": []
    },
    "kernelspec": {
      "name": "python3",
      "display_name": "Python 3"
    }
  },
  "cells": [
    {
      "cell_type": "markdown",
      "metadata": {
        "id": "L23-mPVThGDE"
      },
      "source": [
        "# Assignment"
      ]
    },
    {
      "cell_type": "markdown",
      "metadata": {
        "id": "H9Y6_tKDiqEw"
      },
      "source": [
        "Plot the RLC underdamped oscillation curve\n",
        "\n",
        "$v = v_0*exp(-\\alpha t)*cos(w0*t - \\phi)$\n",
        "\n",
        "$\\alpha = \\frac{R}{2L}$ and $w_0 = \\frac{1}{\\sqrt{LC}}$\n",
        "\n",
        "where alpha is the RLC exponential decay constant and v0 is the maximum voltage the circuit will acheive, omega0 is the natural frequency of the system and phi is phase factor. Use the following RLC values:\n",
        "\n",
        "R = 10 Ohms\n",
        "\n",
        "L = 10 mH\n",
        "\n",
        "C = 0.1 uF\n",
        "\n",
        "phi = 0, and v0 = 1 V."
      ]
    },
    {
      "cell_type": "code",
      "metadata": {
        "id": "Z48w7XM7ipW-"
      },
      "source": [
        "import numpy as np\n",
        "import matplotlib.pyplot as plt\n",
        "\n",
        "# Create the exponential curve\n",
        "def rlc_underdamped(t, parameters):\n",
        "  '''\n",
        "  Plots an RLC exponential charging curve\n",
        "  \n",
        "  Inputs:\n",
        "    t: time\n",
        "    parameters: [initial voltage, damping factor, natural frequency, phase factor]\n",
        "  '''\n",
        "\n",
        "  return v"
      ],
      "execution_count": null,
      "outputs": []
    },
    {
      "cell_type": "code",
      "metadata": {
        "id": "ZTnx9Gbwkenu"
      },
      "source": [
        "v0 = 1\n",
        "R = \n",
        "L = \n",
        "C = \n",
        "phi = 0\n",
        "# Create a time array that is 50 times the length of the time constant, hint it is 1/w0*2*pi*50\n",
        "\n",
        "\n",
        "# Call the rlc_expnential function and obtain the voltage values\n",
        "\n",
        "\n",
        "# Plot you theoretical function\n",
        "\n"
      ],
      "execution_count": null,
      "outputs": []
    },
    {
      "cell_type": "markdown",
      "metadata": {
        "id": "o9pDN0sp0N4H"
      },
      "source": [
        "*Developed by P. Arriaga* \n",
        "\n",
        "*rev. 2.1 E. Kramer 04-15-2021*\n",
        "\n",
        "*rev. 2.2 J. Carmona 10-15-2021*\n",
        "\n",
        "*© Regents of the University of California*\n"
      ]
    },
    {
      "cell_type": "code",
      "metadata": {
        "id": "Ek-jVRjFgvrT"
      },
      "source": [
        ""
      ],
      "execution_count": null,
      "outputs": []
    }
  ]
}