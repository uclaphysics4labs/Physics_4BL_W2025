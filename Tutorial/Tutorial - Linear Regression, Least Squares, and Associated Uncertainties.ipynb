{
 "cells": [
  {
   "cell_type": "markdown",
   "metadata": {
    "id": "_nxGsepaUudT"
   },
   "source": [
    "# Determing the uncertainty of experimental results\n",
    "## 1.1 Introduction\n",
    "Due to the fact that each measurement we make has an inherent uncertainty asscoaited with it, the end result (the quantity we want to measure), also has an attributed uncertainty with it. As a result, we must express our end result with said uncertatinty. For example:\n",
    "\n",
    "$$v_{s} = \\overline{v} \\pm \\sigma_{v}   \\space\\space\\space  (1.1)$$\n",
    "\n",
    "where, $\\overline{v}$ is the mean measurement value, and $ \\sigma_{v} $, is the uncertainty in the measurement.\n",
    "\n",
    "In this tutorial, we will go over how to calculate the uncertainty of the asscoiated with a measurement as calculated through a form of analysis known as ***linear regression.***\n",
    "\n",
    "Let's assume you have made $n$ measurements, $(x_{1}, y_{1}), (x_{2}, y_{2}), ... (x_{n}, y_{n})$. Additionally, let's assume that most of the error comes from the measurement of $y_{i}$. Furthermore, the measurements are presumed to have a linear relationship, meaning:\n",
    "\n",
    "$$y = mx + b \\space\\space\\space  (1.2)$$\n",
    "\n",
    "Conducting a linear regression will allows us to minimize the distance of the points to a line and find the values of $m$ and $b$, that does so. In other words, we have minimized the following equation:\n",
    "\n",
    "$$\\sum_{i=1}^n (y_{i}-mx_{i}-b)^2 \\space\\space\\space  (1.3)$$\n",
    "\n",
    "This method is known as the *least squares* fitting method and the resulting fit parameters can be shown to be,\n",
    "\n",
    "$$\\hat{m} = \\frac{N\\sum{xy}-\\sum{x}\\sum{y}}{N\\sum{x^2}-(\\sum{x})^2} \\space\\space\\space  (1.4)$$ \n",
    "\n",
    "and \n",
    "\n",
    "$$\\hat{b} = \\frac{N\\sum{x^2}\\sum{y}-\\sum{x}\\sum{y}}{N\\sum{x^2}-(\\sum{x})^2} \\space\\space\\space  (1.5)$$.\n",
    "\n",
    "Additionally, the uncerstaitnty related to each measurement in y is $\\sigma_{y}$, we now calculate the uncertainty associated with the best fit parameters to be,\n",
    "\n",
    "$$\\sigma_{m} = \\sigma_{y}\\sqrt{\\frac{N}{N\\sum{x^2}-(\\sum{x})^2}} \\space\\space\\space  (1.6)$$ \n",
    "\n",
    "and\n",
    "\n",
    "$$\\sigma_{b} = \\sigma_{y}\\sqrt{\\frac{N}{N\\sum{x^2}-(\\sum{x})^2}} \\space\\space\\space  (1.7)$$\n",
    "\n",
    "Therefore, the correct way to represent the measured values is,\n",
    "\n",
    "$$m = \\hat{m} \\pm\\sigma_{m} \\space\\space\\space  (1.8)$$\n",
    "$$b = \\hat{b} \\pm\\sigma_{b} \\space\\space\\space  (1.9)$$"
   ]
  },
  {
   "cell_type": "markdown",
   "metadata": {
    "id": "BDKMjrwzSPFR"
   },
   "source": [
    "## 1.2 Example of Linear Regression and Uncertainty"
   ]
  },
  {
   "cell_type": "code",
   "execution_count": null,
   "metadata": {
    "id": "O6IIWG9f0xs2"
   },
   "outputs": [],
   "source": [
    "import numpy as np\n",
    "import matplotlib.pyplot as plt"
   ]
  },
  {
   "cell_type": "markdown",
   "metadata": {
    "id": "ZqqtGrfKSdXy"
   },
   "source": [
    "Let's assume you are trying the calculate linear relation between voltage and current and verify Ohm's law for an unknown resistor value. You have made 3 current readings at 3 different voltages for a total of 9 measurements. \n",
    "\n",
    "The units of measurement are [A] and [V], for current and voltage, respectively. Additionally, you Ammeter has relatively high uncerstaitnty with 0.1 mA uncertainty. Conversely, you Voltmeter has extrememly low uncertaitnty with 0.1 $\\mu$V uncertainty and we can reliable set out voltage to be at a specific voltage. This means that we will solely rely on the uncertainty of the current measurements as the main source of our overall uncertainty.\n",
    "\n",
    "Namely, we are trying to calculate what the best fit line of the form:\n",
    "\n",
    "$$ I = \\frac{V}{R} $$\n",
    "\n",
    "where $\\frac{1}{R}$ is the slope of the line and the inverse of the resistance of the unkown resistor."
   ]
  },
  {
   "cell_type": "code",
   "execution_count": null,
   "metadata": {
    "colab": {
     "base_uri": "https://localhost:8080/"
    },
    "executionInfo": {
     "elapsed": 135,
     "status": "ok",
     "timestamp": 1656439523921,
     "user": {
      "displayName": "Javier Carmona",
      "userId": "07223611003450582562"
     },
     "user_tz": 420
    },
    "id": "mN8l06jm1Nzp",
    "outputId": "fa6b21e5-7902-447f-da10-9f1cd14dabd1"
   },
   "outputs": [
    {
     "name": "stdout",
     "output_type": "stream",
     "text": [
      "[-0.03  0.03  0.01  0.56  0.52  0.54  1.08  1.1   1.05]\n",
      "[0. 0. 0. 1. 1. 1. 2. 2. 2.]\n"
     ]
    }
   ],
   "source": [
    "currents1 = np.array([-0.03, 0.03, 0.01])\n",
    "currents2 = np.array([0.56, 0.52, 0.54])\n",
    "currents3 = np.array([1.08, 1.1, 1.05])\n",
    "\n",
    "current_totals = np.concatenate((currents1, currents2, currents3))\n",
    "\n",
    "print(current_totals)\n",
    "\n",
    "\n",
    "voltages1 = np.array([0.0, 0.0, 0.0])\n",
    "voltages2 = np.array([1.0, 1.0, 1.0])\n",
    "voltages3 = np.array([2.0, 2.0, 2.0])\n",
    "\n",
    "voltage_totals = np.concatenate((voltages1, voltages2, voltages3))\n",
    "\n",
    "print(voltage_totals)"
   ]
  },
  {
   "cell_type": "markdown",
   "metadata": {
    "id": "ERWVT11lV9cu"
   },
   "source": [
    "Let's beging by plotting our data as a set of means at specific voltages and with error bars."
   ]
  },
  {
   "cell_type": "code",
   "execution_count": null,
   "metadata": {
    "colab": {
     "base_uri": "https://localhost:8080/",
     "height": 296
    },
    "executionInfo": {
     "elapsed": 301,
     "status": "ok",
     "timestamp": 1656439526260,
     "user": {
      "displayName": "Javier Carmona",
      "userId": "07223611003450582562"
     },
     "user_tz": 420
    },
    "id": "xU5ogFw61qUm",
    "outputId": "fdadcb69-6ccc-451f-a646-cb17c08465e4"
   },
   "outputs": [
    {
     "data": {
      "text/plain": [
       "Text(0, 0.5, 'Current [A]')"
      ]
     },
     "execution_count": 54,
     "metadata": {},
     "output_type": "execute_result"
    },
    {
     "data": {
      "image/png": "[encoded data removed]",
      "text/plain": [
       "<Figure size 432x288 with 1 Axes>"
      ]
     },
     "metadata": {
      "needs_background": "light"
     },
     "output_type": "display_data"
    }
   ],
   "source": [
    "mean_currents = np.array((np.mean(currents1), np.mean(currents2), np.mean(currents3)))\n",
    "std_currents = np.array((np.std(currents1), np.std(currents2), np.std(currents3)))\n",
    "mean_voltages = np.array([0.0, 1.0, 2.0])\n",
    "\n",
    "\n",
    "plt.errorbar(mean_voltages, mean_currents, yerr = std_currents, ls = 'none')\n",
    "plt.xlabel('Voltage [V]')\n",
    "plt.ylabel('Current [A]')"
   ]
  },
  {
   "cell_type": "markdown",
   "metadata": {
    "id": "j5ouwjEvXBod"
   },
   "source": [
    "Now, let's calculate what the values of slope and the intercept of the line that minimize the least squares function. Thankfully, Python, NumPy, has a built in function that calculates these values for you. "
   ]
  },
  {
   "cell_type": "code",
   "execution_count": null,
   "metadata": {
    "id": "s0t2xAAK1w4n"
   },
   "outputs": [],
   "source": [
    "fit1, cov1 = np.polyfit(voltage_totals, current_totals, 1, cov='true')"
   ]
  },
  {
   "cell_type": "markdown",
   "metadata": {
    "id": "FHGZdCySY3VJ"
   },
   "source": [
    "Let's now plot the fitted function with the overall data set averages with error bars."
   ]
  },
  {
   "cell_type": "code",
   "execution_count": null,
   "metadata": {
    "colab": {
     "base_uri": "https://localhost:8080/",
     "height": 296
    },
    "executionInfo": {
     "elapsed": 394,
     "status": "ok",
     "timestamp": 1656439530777,
     "user": {
      "displayName": "Javier Carmona",
      "userId": "07223611003450582562"
     },
     "user_tz": 420
    },
    "id": "Mn3x_esEZIFv",
    "outputId": "f67e12fc-ec72-4660-9068-68162ea1f6a0"
   },
   "outputs": [
    {
     "data": {
      "text/plain": [
       "[<matplotlib.lines.Line2D at 0x7fa5be9801d0>]"
      ]
     },
     "execution_count": 56,
     "metadata": {},
     "output_type": "execute_result"
    },
    {
     "data": {
      "image/png": "[encoded data removed]",
      "text/plain": [
       "<Figure size 432x288 with 1 Axes>"
      ]
     },
     "metadata": {
      "needs_background": "light"
     },
     "output_type": "display_data"
    }
   ],
   "source": [
    "plt.errorbar(mean_voltages, mean_currents, yerr = std_currents, ls = 'none')\n",
    "plt.xlabel('Voltage [V]')\n",
    "plt.ylabel('Current [A]')\n",
    "\n",
    "current_fit = fit1[0]*mean_voltages + fit1[1]\n",
    "\n",
    "plt.plot(mean_voltages, current_fit)"
   ]
  },
  {
   "cell_type": "markdown",
   "metadata": {
    "id": "VX5uYthXapLx"
   },
   "source": [
    "Lastly, let's calculate what the error associated with the slope of the line is. Applying equation 1.6, we can calculate the error."
   ]
  },
  {
   "cell_type": "code",
   "execution_count": null,
   "metadata": {
    "colab": {
     "base_uri": "https://localhost:8080/"
    },
    "executionInfo": {
     "elapsed": 3133,
     "status": "ok",
     "timestamp": 1656440579185,
     "user": {
      "displayName": "Javier Carmona",
      "userId": "07223611003450582562"
     },
     "user_tz": 420
    },
    "id": "g90ZWr7_3XZ5",
    "outputId": "3e8a2122-79a5-4930-a173-3857715811ff"
   },
   "outputs": [
    {
     "name": "stdout",
     "output_type": "stream",
     "text": [
      "0.040824829046386304\n"
     ]
    }
   ],
   "source": [
    "sigma_y = 0.1\n",
    "n = 9\n",
    "\n",
    "sigma_m =sigma_y*np.sqrt(n/(n*np.sum(np.square(voltage_totals))-np.square(np.sum(voltage_totals))))\n",
    "print(sigma_m)"
   ]
  },
  {
   "cell_type": "markdown",
   "metadata": {
    "id": "cRKcVRz1bks8"
   },
   "source": [
    "Before proceeding, we must realize that what we have calculated is the error associated with the slope, however, our goal was to retrieve the unknown resistor value. We must then rearrange our error. Simply error propagation rules, shown here \n",
    "\n",
    "[Error Propapgation Rules](https://colab.research.google.com/drive/1SknuzpZHvETdLI3kCmFMmrbk8nLpRf-6?usp=sharing)\n",
    "\n",
    "show how find the error of the inverse relation. \n",
    "\n",
    "$$\\sigma_{R} = |R|\\frac{\\sigma_{m}}{m}$$ \n",
    "\n",
    "where,\n",
    "\n",
    "$$R = \\frac{1}{m}$$\n",
    "\n",
    "Therefore, \n",
    "\n",
    "$$\\sigma_{R} = \\frac{\\sigma_{m}}{m^2}$$ "
   ]
  },
  {
   "cell_type": "code",
   "execution_count": null,
   "metadata": {
    "colab": {
     "base_uri": "https://localhost:8080/"
    },
    "executionInfo": {
     "elapsed": 134,
     "status": "ok",
     "timestamp": 1656440572219,
     "user": {
      "displayName": "Javier Carmona",
      "userId": "07223611003450582562"
     },
     "user_tz": 420
    },
    "id": "FDwM_orDcHnI",
    "outputId": "ada14623-a7c1-4f9c-bb25-00dd1d70d120"
   },
   "outputs": [
    {
     "name": "stdout",
     "output_type": "stream",
     "text": [
      "Resistance = 1.86±0.14Ω\n"
     ]
    }
   ],
   "source": [
    "sigma_R = sigma_m/(fit1[0]**2)\n",
    "\n",
    "print(\"Resistance = \" \"{:.2f}\".format(1/fit1[0])+ u\"\\u00B1\" + \"{:.2f}\".format(sigma_R) + u\"\\u03A9\")"
   ]
  },
  {
   "cell_type": "markdown",
   "metadata": {
    "id": "FPx-hd_AgA6H"
   },
   "source": [
    "*created by Javier Carmona 07/2022*\n",
    "References:\n",
    "\n",
    "[1] Old Physics 4BL Lab Manuals - https://demoweb.physics.ucla.edu/sites/default/files/Manual4BL.pdf\n",
    "\n",
    "[2] Chapter 8 of Taylor: An Introduction to Error Analysis"
   ]
  },
  {
   "cell_type": "code",
   "execution_count": null,
   "metadata": {
    "id": "xbW0pGkZ9tmw"
   },
   "outputs": [],
   "source": []
  }
 ],
 "metadata": {
  "colab": {
   "authorship_tag": "ABX9TyPAK0rOm2CaUuD88p1C4wQF",
   "provenance": [
    {
     "file_id": "1v--AxgbzNmjUEbAr5CEoWXYwMP_0LoJe",
     "timestamp": 1656436659422
    }
   ]
  },
  "kernelspec": {
   "display_name": "Python 3 (ipykernel)",
   "language": "python",
   "name": "python3"
  },
  "language_info": {
   "codemirror_mode": {
    "name": "ipython",
    "version": 3
   },
   "file_extension": ".py",
   "mimetype": "text/x-python",
   "name": "python",
   "nbconvert_exporter": "python",
   "pygments_lexer": "ipython3",
   "version": "3.11.8"
  }
 },
 "nbformat": 4,
 "nbformat_minor": 4
}
