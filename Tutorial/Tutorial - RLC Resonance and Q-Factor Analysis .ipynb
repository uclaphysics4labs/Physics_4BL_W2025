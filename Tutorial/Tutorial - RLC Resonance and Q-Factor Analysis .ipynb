{
 "cells": [
  {
   "cell_type": "markdown",
   "metadata": {
    "id": "Dbhh2nGeP0kh"
   },
   "source": [
    "# RLC Resonance Curves\n",
    "\n",
    "In the previous laboratory section, we found that RLC circuits when placed in series, results with what a known as a natural frequency, where the natural frequecy is,\n",
    "\n",
    "$$\\omega_{0} = \\frac{1}{\\sqrt{LC}}$$\n",
    "\n",
    "When driven, at the natural frequency, resonance occurs which means that the is a maximal power tranmission in the circuit. We want to explore how as we approach the natural frequency of the circuit, power tramissability increases and/or decreases. For this, we will drive an RLC circuit to its theoretical natural frequnecy and beyond. The ratio of resonator's center frequency versus the bandwidth of transmission,\n",
    "\n",
    "\n",
    "$$Q_{factor} = \\frac{w0}{\\Delta \\omega} = \\frac{f_{0}}{\\Delta f}$$\n",
    "\n",
    "For an RLC circuit in series, the equivalent result is in terms of fundamental RLC components is,\n",
    "\n",
    "$$Q_{factor} = \\frac{w0}{\\Delta \\omega} = \\frac{1}{R}\\sqrt{\\frac{L}{C}}$$\n",
    "\n",
    "where, \n",
    "\n",
    "$$\\Delta \\omega= \\frac{R}{L}$$\n",
    "\n",
    "\n",
    "Additionally, when we perform this resonant frequnecy scan, we arrive at the solution for the resonance curve, known as a *Lorentzian* or *Cauchy* distribution.\n",
    "\n",
    "$$P(f) = \\frac{A_0 \\left( \\Delta f^2 f_0^2 - \\frac{\\Delta f^4}{4} \\right)}{(f^2 - f_0^2)^2 + \\Delta f^2 f^2}$$\n",
    "\n",
    "where,\n",
    "\n",
    "$$f_{0} = \\frac{\\omega_{0}}{2\\pi}$$\n",
    "\n",
    "is the natural frequency in units of Hz, $Δf$ is the bandwith in units of Hz, and $A_{0}$ is the maximum amplitude of the system."
   ]
  },
  {
   "cell_type": "markdown",
   "metadata": {
    "id": "NvfD_vJAYCF8"
   },
   "source": [
    "## 1.1 Example dataset\n",
    "\n",
    "We will go through how to analyze an example data set. Here we have conducted an resonance curve experiment with an RLC circuit in series with the following parameters.\n",
    "\n",
    "$$ R = 8\\Omega$$\n",
    "$$ L = 8.5 mH$$\n",
    "$$ C = 0.1\\mu F$$\n",
    "\n",
    "**and we scanned a frequency range of 0 - 10 kHz.**\n",
    "We begin by loading in our data."
   ]
  },
  {
   "cell_type": "code",
   "execution_count": null,
   "metadata": {
    "id": "yYoPrrJ-AiFR"
   },
   "outputs": [],
   "source": [
    "import numpy as np\n",
    "import matplotlib.pyplot as plt"
   ]
  },
  {
   "cell_type": "code",
   "execution_count": null,
   "metadata": {
    "colab": {
     "base_uri": "https://localhost:8080/",
     "height": 282
    },
    "id": "KoOGcE85ApQ-",
    "outputId": "72e0c3f5-4c84-48d9-c7d0-84f21cf342f4"
   },
   "outputs": [
    {
     "data": {
      "text/plain": [
       "[<matplotlib.lines.Line2D at 0x7fc5a348f3d0>]"
      ]
     },
     "execution_count": 85,
     "metadata": {},
     "output_type": "execute_result"
    },
    {
     "data": {
      "image/png": "[encoded data removed]",
      "text/plain": [
       "<Figure size 432x288 with 1 Axes>"
      ]
     },
     "metadata": {
      "needs_background": "light"
     },
     "output_type": "display_data"
    }
   ],
   "source": [
    "data = np.loadtxt('/content/RLC_frequency_sweep.csv', delimiter = ',', skiprows = 1)\n",
    "plt.plot(data)"
   ]
  },
  {
   "cell_type": "markdown",
   "metadata": {
    "id": "OS6kWvsQYpd-"
   },
   "source": [
    "Next we want to trim our data such that we start our analysis when the frequency was zero and ended at 10 kHz."
   ]
  },
  {
   "cell_type": "code",
   "execution_count": null,
   "metadata": {
    "colab": {
     "base_uri": "https://localhost:8080/",
     "height": 296
    },
    "id": "-aVFOPDlA19-",
    "outputId": "846e4983-eddd-481a-ed40-a961dbd09bba"
   },
   "outputs": [
    {
     "data": {
      "text/plain": [
       "Text(0.5, 0, 'Frequency [Hz]')"
      ]
     },
     "execution_count": 86,
     "metadata": {},
     "output_type": "execute_result"
    },
    {
     "data": {
      "image/png": "[encoded data removed]",
      "text/plain": [
       "<Figure size 432x288 with 1 Axes>"
      ]
     },
     "metadata": {
      "needs_background": "light"
     },
     "output_type": "display_data"
    }
   ],
   "source": [
    "# Cutoff data points such that the data set starts at 0 Hz and ends at 10 kHz.\n",
    "lower_f = 25000\n",
    "upper_f = 222500\n",
    "\n",
    "data_trimmed = data[lower_f:upper_f]\n",
    "\n",
    "# Create a frequency array with the same number of data points, ranged from 0-10 kHz.\n",
    "frequencies = np.linspace(0, 10000, len(data_trimmed))\n",
    "\n",
    "plt.plot(frequencies, data_trimmed)\n",
    "plt.xlabel('Frequency [Hz]')"
   ]
  },
  {
   "cell_type": "markdown",
   "metadata": {
    "id": "_X2HxMXSZJMA"
   },
   "source": [
    "Futhermore, we want to calculate the ratio of the **power** transmissiblity, so we will normalize and square our voltage reading values."
   ]
  },
  {
   "cell_type": "code",
   "execution_count": null,
   "metadata": {
    "colab": {
     "base_uri": "https://localhost:8080/",
     "height": 296
    },
    "id": "2Gef50VZBsmq",
    "outputId": "e470770c-1d6a-4afa-c419-25713e46e028"
   },
   "outputs": [
    {
     "data": {
      "text/plain": [
       "Text(0.5, 0, 'Frequency [Hz]')"
      ]
     },
     "execution_count": 87,
     "metadata": {},
     "output_type": "execute_result"
    },
    {
     "data": {
      "image/png": "[encoded data removed]",
      "text/plain": [
       "<Figure size 432x288 with 1 Axes>"
      ]
     },
     "metadata": {
      "needs_background": "light"
     },
     "output_type": "display_data"
    }
   ],
   "source": [
    "power_data = (data_trimmed - np.mean(data_trimmed))**2\n",
    "power_data_norm = power_data/np.max(power_data)\n",
    "plt.plot(frequencies, power_data_norm)\n",
    "plt.xlabel('Frequency [Hz]')"
   ]
  },
  {
   "cell_type": "markdown",
   "metadata": {
    "id": "PFQMzmp4ZZO-"
   },
   "source": [
    "Now, let's define our Lorentzian fucntion\n",
    "\n",
    "$$P(f) = \\frac{A_0 \\left( \\Delta f^2 f_0^2 - \\frac{\\Delta f^4}{4} \\right)}{(f^2 - f_0^2)^2 + \\Delta f^2 f^2}$$"
   ]
  },
  {
   "cell_type": "code",
   "execution_count": null,
   "metadata": {
    "id": "p2uU53VXCcec"
   },
   "outputs": [],
   "source": [
    "def lorentzian(f, parameters):\n",
    "\n",
    "  # create an input parameters array with the amplitude, natural frequecy, and the bandwith.\n",
    "\n",
    "  A0 = \n",
    "  f0 = \n",
    "  bw = \n",
    "\n",
    "  # Define the lore\n",
    "  Lor = \n",
    "  return Lor\n"
   ]
  },
  {
   "cell_type": "code",
   "execution_count": null,
   "metadata": {
    "id": "lNd_H8FzD9eM"
   },
   "outputs": [],
   "source": [
    "#Define your RLC constants\n",
    "R = 8\n",
    "L = 8.5*10**-3\n",
    "C = 0.1*10**-6\n",
    "\n",
    "\n",
    "# Calculate the natural frequency in rad/s and the Q factor\n",
    "w0 = \n",
    "Q = \n",
    "\n",
    "# Calculate the bandwith of the RLC circuit for the given RLC constants\n",
    "bw = "
   ]
  },
  {
   "cell_type": "markdown",
   "metadata": {
    "id": "NS9BJG1peNLA"
   },
   "source": [
    "Now that we have defined our Lorentzian function, let's plot our experimental data and theoretical models together."
   ]
  },
  {
   "cell_type": "code",
   "execution_count": null,
   "metadata": {
    "colab": {
     "base_uri": "https://localhost:8080/",
     "height": 296
    },
    "id": "WlVLkMXzEuw7",
    "outputId": "910b1255-e08f-4d20-ea4b-730da168aac3"
   },
   "outputs": [
    {
     "data": {
      "text/plain": [
       "Text(0.5, 0, 'Frequency [Hz]')"
      ]
     },
     "execution_count": 92,
     "metadata": {},
     "output_type": "execute_result"
    },
    {
     "data": {
      "image/png": "[encoded data removed]",
      "text/plain": [
       "<Figure size 432x288 with 1 Axes>"
      ]
     },
     "metadata": {
      "needs_background": "light"
     },
     "output_type": "display_data"
    }
   ],
   "source": [
    "A0 = \n",
    "f0 = \n",
    "bw = \n",
    "\n",
    "input_params = [A0, f0, bw]\n",
    "\n",
    "# Call the Lorentzian function and feed it the theoretical values of amplitude, natural frequency, and bw as fucntion of frequency.\n",
    "lor_theoretical = \n",
    "\n",
    "\n",
    "# Plot the experimental data set and the theoretical models together.\n",
    "plt.xlabel('Frequency [Hz]')\n"
   ]
  },
  {
   "cell_type": "code",
   "execution_count": null,
   "metadata": {
    "colab": {
     "base_uri": "https://localhost:8080/"
    },
    "id": "BLA651qAFtTK",
    "outputId": "218aef18-5a2a-4d24-90a4-b83baa530f36"
   },
   "outputs": [
    {
     "name": "stdout",
     "output_type": "stream",
     "text": [
      "[4.87962201e-01 5.44834433e+03 6.53928779e+02]\n"
     ]
    }
   ],
   "source": [
    "def lorentzian_residuals(params, data, x):\n",
    "  residuals=np.abs(data-lorentzian(x,params))\n",
    "  return -residuals\n",
    "\n",
    "# import least squares fit\n",
    "from scipy.optimize import least_squares\n",
    "\n",
    "# Perform least squares fit\n",
    "res_lsq_lorentzian = least_squares(lorentzian_residuals, input_params, args = (power_data_norm, frequencies))\n",
    "\n",
    "best_fit_parameters = res_lsq_lorentzian['x']\n",
    "print(best_fit_parameters)"
   ]
  },
  {
   "cell_type": "markdown",
   "metadata": {
    "id": "3jnK0DXWdgmT"
   },
   "source": [
    "Finally, after performing a least squares fit your your data, plot the theoretical model, experimental data, and your experimental fit on a single plot."
   ]
  },
  {
   "cell_type": "code",
   "execution_count": null,
   "metadata": {
    "colab": {
     "base_uri": "https://localhost:8080/",
     "height": 296
    },
    "id": "QSYbWHvOOKtM",
    "outputId": "8d5eb69e-677e-460b-8c22-ac6e81988631"
   },
   "outputs": [
    {
     "data": {
      "text/plain": [
       "<matplotlib.legend.Legend at 0x7fc5a32f7e10>"
      ]
     },
     "execution_count": 94,
     "metadata": {},
     "output_type": "execute_result"
    },
    {
     "data": {
      "image/png": "[encoded data removed]",
      "text/plain": [
       "<Figure size 432x288 with 1 Axes>"
      ]
     },
     "metadata": {
      "needs_background": "light"
     },
     "output_type": "display_data"
    }
   ],
   "source": [
    "# Using the best fit parameters from the least squares fit, call the Lorentzian function again to plot the function. \n",
    "exp_lorentzian_fit = lorentzian(frequencies, best_fit_parameters)\n",
    "\n",
    "# Plot the experimental data, theoretical model, and experimental fit together on 1 graph.\n",
    "plt.plot(frequencies, power_data_norm, label='Experimental Data')\n",
    "plt.plot(frequencies, lor_theoretical, label='Theoretical Model')\n",
    "plt.plot(frequencies, exp_lorentzian_fit/np.max(exp_lorentzian_fit), label='Experimental Fit')\n",
    "plt.xlabel('Frequency [Hz]')\n",
    "plt.legend()"
   ]
  },
  {
   "cell_type": "code",
   "execution_count": null,
   "metadata": {
    "id": "MyAW34Phe05B"
   },
   "outputs": [],
   "source": []
  }
 ],
 "metadata": {
  "colab": {
   "provenance": []
  },
  "kernelspec": {
   "display_name": "Python 3 (ipykernel)",
   "language": "python",
   "name": "python3"
  },
  "language_info": {
   "codemirror_mode": {
    "name": "ipython",
    "version": 3
   },
   "file_extension": ".py",
   "mimetype": "text/x-python",
   "name": "python",
   "nbconvert_exporter": "python",
   "pygments_lexer": "ipython3",
   "version": "3.11.9"
  }
 },
 "nbformat": 4,
 "nbformat_minor": 4
}
