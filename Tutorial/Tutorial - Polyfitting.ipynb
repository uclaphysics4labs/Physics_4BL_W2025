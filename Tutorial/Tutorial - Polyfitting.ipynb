{
 "cells": [
  {
   "cell_type": "markdown",
   "metadata": {
    "id": "i6cRs8n_SRZ0"
   },
   "source": [
    "# Fitting\n",
    "\n",
    "*developed by Pauline Arriaga*"
   ]
  },
  {
   "cell_type": "markdown",
   "metadata": {
    "id": "ygzDfTn82WwM"
   },
   "source": [
    "When we interpret any kind of data, our scientific result may be a number that comes from the average of the data points, or it can be some kind of correlation. There are some kinds of correlations in physics we expect. For example, we can model Ohm's law using the theoretical formula,\n",
    "\n",
    "$V(I) =  I*R$\n",
    "\n",
    "Therefore, if we measure the voltage and the current and plot them, we should see a line. However, when we're measuring voltages or currents, we won't always get our voltages or currents exactly on the theoretical curve if our measurements are noisy. Run the 3 cells below to see what \"noisy\" data constitutes.\n",
    "\n",
    "Generally speaking, current vs. voltage (IV) plots are plotted with the current as the dependent variable and voltage as the independent variable. Therefore, we will plot Ohm's law in the rearranged form,\n",
    "\n",
    "$I(V) =  \\frac{V}{R}$"
   ]
  },
  {
   "cell_type": "code",
   "execution_count": 6,
   "metadata": {
    "executionInfo": {
     "elapsed": 370,
     "status": "ok",
     "timestamp": 1632695934294,
     "user": {
      "displayName": "Physics Labs",
      "photoUrl": "https://lh3.googleusercontent.com/a/default-user=s64",
      "userId": "10278942070316074746"
     },
     "user_tz": 420
    },
    "id": "_fu3ucOLSKln"
   },
   "outputs": [],
   "source": [
    "import numpy as np\n",
    "import random\n",
    "import matplotlib.pyplot as plt"
   ]
  },
  {
   "cell_type": "markdown",
   "metadata": {
    "id": "aFMCPO6u3EVY"
   },
   "source": [
    "Below I'm going to use some functions that will create arrays x_data and y_data which hold some linear data. "
   ]
  },
  {
   "cell_type": "code",
   "execution_count": 7,
   "metadata": {
    "colab": {
     "base_uri": "https://localhost:8080/",
     "height": 296
    },
    "executionInfo": {
     "elapsed": 300,
     "status": "ok",
     "timestamp": 1632695938436,
     "user": {
      "displayName": "Physics Labs",
      "photoUrl": "https://lh3.googleusercontent.com/a/default-user=s64",
      "userId": "10278942070316074746"
     },
     "user_tz": 420
    },
    "id": "QyHpii2DSQCy",
    "outputId": "02222b56-18d9-492e-fe6e-12665c2edcf4"
   },
   "outputs": [
    {
     "data": {
      "text/plain": [
       "Text(0, 0.5, 'Current (Amps)')"
      ]
     },
     "execution_count": 7,
     "metadata": {},
     "output_type": "execute_result"
    },
    {
     "data": {
      "image/png": "[encoded data removed]",
      "text/plain": [
       "<Figure size 432x288 with 1 Axes>"
      ]
     },
     "metadata": {
      "needs_background": "light"
     },
     "output_type": "display_data"
    }
   ],
   "source": [
    "### Generate a line with random noise\n",
    "\n",
    "resistance = 100; #Simulate the line with a resitive component with 100 Ohms of resistance\n",
    "\n",
    "# Generate x and y array for a line\n",
    "voltage = np.linspace(0, 10, 100)\n",
    "current = voltage/resistance\n",
    "\n",
    "# print(np.shape(V))\n",
    "\n",
    "# Generate random noise commonly seen in your measurement device\n",
    "# This noise will have a noise factor of 1% of 1 Amp. In other words,\n",
    "# it has a 10 mA noise\n",
    "noise = np.squeeze(np.random.rand(1, 100))*0.01\n",
    "current += noise\n",
    "\n",
    "# Show data\n",
    "plt.scatter(voltage, current)\n",
    "plt.xlabel('Voltage (V)')\n",
    "plt.ylabel('Current (Amps)')"
   ]
  },
  {
   "cell_type": "markdown",
   "metadata": {
    "id": "vB2AICSNWY_3"
   },
   "source": [
    "We can see from the plot above, that the data looks linear (like it should follow a line function),  but the data does not exactly fall on a line. We know that if we have perfect data, then our function should look something like\n",
    "\n",
    "$ y = mx + b$\n",
    "\n",
    "where x is the x coordinate of each data point and y is the corresponding y coordinate. "
   ]
  },
  {
   "cell_type": "markdown",
   "metadata": {
    "id": "nvaF6tLn3LWQ"
   },
   "source": [
    "We will use the polyfit function for our first fits and then move to more advanced fitting functions as the class proceeds. The polyfit function takes some x and y data and will return the fit parameters for a polynomial of degree n.  For this case n is equal to 1. We print out the results to polyfit which will be our values for m and b respectivly.  If we had done a higher order fit, we would get more coeffecents. "
   ]
  },
  {
   "cell_type": "code",
   "execution_count": 8,
   "metadata": {
    "colab": {
     "base_uri": "https://localhost:8080/"
    },
    "executionInfo": {
     "elapsed": 336,
     "status": "ok",
     "timestamp": 1632695941332,
     "user": {
      "displayName": "Physics Labs",
      "photoUrl": "https://lh3.googleusercontent.com/a/default-user=s64",
      "userId": "10278942070316074746"
     },
     "user_tz": 420
    },
    "id": "oORRe_yuVIly",
    "outputId": "cc622bcf-8e69-4e3c-b378-43d1ff0d2d28"
   },
   "outputs": [
    {
     "name": "stdout",
     "output_type": "stream",
     "text": [
      "[0.0099757  0.00464374]\n"
     ]
    }
   ],
   "source": [
    "fitOrder = 1 #n=1 for linear first order fit\n",
    "linearFit = np.polyfit(voltage, current,fitOrder) #Solves our fit\n",
    "print(linearFit)\n",
    "\n",
    "#Our coefficients\n",
    "m=linearFit[0]\n",
    "b=linearFit[1]\n"
   ]
  },
  {
   "cell_type": "markdown",
   "metadata": {
    "id": "mIOh8b44hyP_"
   },
   "source": [
    "Now we can use our fit coeffecents to make and plot a fitted line:"
   ]
  },
  {
   "cell_type": "code",
   "execution_count": 9,
   "metadata": {
    "colab": {
     "base_uri": "https://localhost:8080/",
     "height": 296
    },
    "executionInfo": {
     "elapsed": 318,
     "status": "ok",
     "timestamp": 1632695949071,
     "user": {
      "displayName": "Physics Labs",
      "photoUrl": "https://lh3.googleusercontent.com/a/default-user=s64",
      "userId": "10278942070316074746"
     },
     "user_tz": 420
    },
    "id": "0GIp6hrrhPkT",
    "outputId": "2d6b3764-5213-43a5-e8cb-70b6a2ad1d5f"
   },
   "outputs": [
    {
     "data": {
      "text/plain": [
       "<matplotlib.legend.Legend at 0x7eff04e1d810>"
      ]
     },
     "execution_count": 9,
     "metadata": {},
     "output_type": "execute_result"
    },
    {
     "data": {
      "image/png": "[encoded data removed]",
      "text/plain": [
       "<Figure size 432x288 with 1 Axes>"
      ]
     },
     "metadata": {
      "needs_background": "light"
     },
     "output_type": "display_data"
    }
   ],
   "source": [
    "\n",
    "xFit = np.linspace(0,10,10000)  #Makes an array from 0 to 100 on the x-axis with 10000 points\n",
    "yFit = m*xFit+b #Builds our fit for the y-axis.  We can now plot our fit by plotting xFit vs yFit\n",
    "\n",
    "plt.scatter(voltage, current, label = 'Data') #Plots our data\n",
    "plt.plot(xFit, yFit, color = 'green', label = 'Fitted line') #Plots our fit\n",
    "plt.xlabel('Voltage (V)')\n",
    "plt.ylabel('Current (Amps)')\n",
    "\n",
    "plt.legend() #turns on the legend"
   ]
  },
  {
   "cell_type": "markdown",
   "metadata": {
    "id": "g-AsNRXKVHSq"
   },
   "source": [
    "*Developed by P. Arriaga*\n",
    "\n",
    "*rev. 2.0 E. Kramer 06-04-2020*\n",
    "\n",
    "*rev. 3.0 J. Carmona 09-26-2021*\n",
    "\n",
    "*© Regents of the University of California*\n"
   ]
  },
  {
   "cell_type": "code",
   "execution_count": 4,
   "metadata": {
    "executionInfo": {
     "elapsed": 5,
     "status": "ok",
     "timestamp": 1632690108698,
     "user": {
      "displayName": "Physics Labs",
      "photoUrl": "https://lh3.googleusercontent.com/a/default-user=s64",
      "userId": "10278942070316074746"
     },
     "user_tz": 420
    },
    "id": "cdtylevejmL2"
   },
   "outputs": [],
   "source": []
  }
 ],
 "metadata": {
  "colab": {
   "collapsed_sections": [],
   "name": "Polyfitting_Tutorial.ipynb",
   "provenance": []
  },
  "kernelspec": {
   "display_name": "Python 3 (ipykernel)",
   "language": "python",
   "name": "python3"
  },
  "language_info": {
   "codemirror_mode": {
    "name": "ipython",
    "version": 3
   },
   "file_extension": ".py",
   "mimetype": "text/x-python",
   "name": "python",
   "nbconvert_exporter": "python",
   "pygments_lexer": "ipython3",
   "version": "3.11.8"
  }
 },
 "nbformat": 4,
 "nbformat_minor": 4
}
