{
  "nbformat": 4,
  "nbformat_minor": 0,
  "metadata": {
    "colab": {
      "name": "Pre-Lab Assignment 3",
      "provenance": [],
      "collapsed_sections": []
    },
    "kernelspec": {
      "name": "python3",
      "display_name": "Python 3"
    }
  },
  "cells": [
    {
      "cell_type": "markdown",
      "metadata": {
        "id": "i6cRs8n_SRZ0"
      },
      "source": [
        "# Fitting\n",
        "\n",
        "*developed by Pauline Arriaga*"
      ]
    },
    {
      "cell_type": "markdown",
      "metadata": {
        "id": "ygzDfTn82WwM"
      },
      "source": [
        "When we interpret any kind of data, our scientific result may be a number that comes from the average of the data points, or it can be some kind of correlation. There are some kinds of correlations in physics we expect. For example, if we are dropping an object from a certain height, we know that the position will be\n",
        "\n",
        "$x = \\frac{1}{2} gt^2$\n",
        "\n",
        "Therefore, if we measure positions and measure times and plot them, we should see a parabola. However, if we have some systematic errors, meaning some effect of our system that will affect all measurements, we won't get a perfect parabola. We therefore need to fit our data. "
      ]
    },
    {
      "cell_type": "code",
      "metadata": {
        "id": "_fu3ucOLSKln"
      },
      "source": [
        "import numpy as np\n",
        "import random\n",
        "import matplotlib.pyplot as plt"
      ],
      "execution_count": null,
      "outputs": []
    },
    {
      "cell_type": "markdown",
      "metadata": {
        "id": "aFMCPO6u3EVY"
      },
      "source": [
        "Below I'm going to use some functions that will create arrays x_data and y_data which hold some linear data. "
      ]
    },
    {
      "cell_type": "code",
      "metadata": {
        "id": "QyHpii2DSQCy",
        "colab": {
          "base_uri": "https://localhost:8080/",
          "height": 282
        },
        "outputId": "13691f03-1e42-4351-c286-5a2e97c2f833"
      },
      "source": [
        "### Generate a line with random noise\n",
        "\n",
        "# Generate x and y array for a line\n",
        "x_data = np.arange(100, dtype = float)\n",
        "y_data = np.arange(100, dtype = float) * 3. + 30.\n",
        "\n",
        "# Generate random noise\n",
        "noise = [random.randint(-50,50) for i in range(100)]\n",
        "y_data += noise\n",
        "\n",
        "# Show data\n",
        "plt.scatter(x_data, y_data)"
      ],
      "execution_count": null,
      "outputs": [
        {
          "output_type": "execute_result",
          "data": {
            "text/plain": [
              "<matplotlib.collections.PathCollection at 0x7f542d95f690>"
            ]
          },
          "metadata": {},
          "execution_count": 2
        },
        {
          "output_type": "display_data",
          "data": {
            "image/png": "[encoded data removed]",
            "text/plain": [
              "<Figure size 432x288 with 1 Axes>"
            ]
          },
          "metadata": {
            "needs_background": "light"
          }
        }
      ]
    },
    {
      "cell_type": "markdown",
      "metadata": {
        "id": "nvaF6tLn3LWQ"
      },
      "source": [
        "In order to fit a function, we first need two different functions. One of them will be the function we're trying to fit. Let's try and fit a line to the data points above. We then create a function line() which takes an x coordinate and some parameters as the inputs. We pass in the parameters as an array with the first element being the slope of the line and the second being the y offset. We can have the parameters in any order. Note that below, we have used a doc sting (the text within the quotation marks) in order to tell the reader what the parameters should be. \n",
        "\n",
        "\n",
        "The second function will get the residuals of the function. This function can just be a formula for any fitting as it will be the same for any fitting function where we don't have error bars. The get residuals will go point by point on the data points and will find the distance between each data point and the fitted line. The best fit will have the smallest residuals. "
      ]
    },
    {
      "cell_type": "code",
      "metadata": {
        "id": "TP5MTuOTSkqs"
      },
      "source": [
        "def line(x, parameters):\n",
        "  '''\n",
        "  Plots a line\n",
        "  \n",
        "  Inputs:\n",
        "    x: a coordinate\n",
        "    parameters: [slope of the line, y offset of the line]\n",
        "  '''\n",
        "  m = parameters[0]\n",
        "  b = parameters[1]\n",
        "  y = m * x + b\n",
        "  return y\n",
        "\n",
        "def get_residuals_line(parameters, data, x):\n",
        "  residuals = np.abs(data - line(x, parameters))\n",
        "  return -residuals"
      ],
      "execution_count": null,
      "outputs": []
    },
    {
      "cell_type": "markdown",
      "metadata": {
        "id": "fD5sK9DYSd5s"
      },
      "source": [
        "We now use the least squares which will maximize the function get residuals, finding the best fit. **Note where x and y data are input**"
      ]
    },
    {
      "cell_type": "code",
      "metadata": {
        "id": "WckBn36jV9zN"
      },
      "source": [
        "from scipy.optimize import least_squares\n",
        "guess_parameters = [1., 1.] \n",
        "res_lsq = least_squares(get_residuals_line, guess_parameters, args = (y_data, x_data))"
      ],
      "execution_count": null,
      "outputs": []
    },
    {
      "cell_type": "markdown",
      "metadata": {
        "id": "2RLv1QNfTHTp"
      },
      "source": [
        "We now extract the best parameters from the results"
      ]
    },
    {
      "cell_type": "code",
      "metadata": {
        "id": "6lKo5weiWqCv",
        "colab": {
          "base_uri": "https://localhost:8080/"
        },
        "outputId": "d5d16dcf-d09b-422e-a6d1-1b4e6d47e438"
      },
      "source": [
        "parameters = res_lsq['x']\n",
        "print(parameters)"
      ],
      "execution_count": null,
      "outputs": [
        {
          "output_type": "stream",
          "name": "stdout",
          "text": [
            "[ 3.07778578 28.67960372]\n"
          ]
        }
      ]
    },
    {
      "cell_type": "markdown",
      "metadata": {
        "id": "1o3DmzETTLrK"
      },
      "source": [
        "Let's check to see how good our fit is"
      ]
    },
    {
      "cell_type": "code",
      "metadata": {
        "id": "6oJR8yAJWzoh",
        "colab": {
          "base_uri": "https://localhost:8080/",
          "height": 282
        },
        "outputId": "dcce1673-0cc6-492a-f278-276ba06715a1"
      },
      "source": [
        "x_axis = np.arange(110.)\n",
        "fitted_line = line(x_axis, parameters)\n",
        "plt.plot(x_axis, fitted_line, color = 'green', label = 'Fitted line')\n",
        "\n",
        "plt.scatter(x_data, y_data, label = 'Data')\n",
        "\n",
        "plt.legend()"
      ],
      "execution_count": null,
      "outputs": [
        {
          "output_type": "execute_result",
          "data": {
            "text/plain": [
              "<matplotlib.legend.Legend at 0x7f54200c5950>"
            ]
          },
          "metadata": {},
          "execution_count": 6
        },
        {
          "output_type": "display_data",
          "data": {
            "image/png": "[encoded data removed]",
            "text/plain": [
              "<Figure size 432x288 with 1 Axes>"
            ]
          },
          "metadata": {
            "needs_background": "light"
          }
        }
      ]
    },
    {
      "cell_type": "markdown",
      "metadata": {
        "id": "L23-mPVThGDE"
      },
      "source": [
        "# Assignment"
      ]
    },
    {
      "cell_type": "markdown",
      "metadata": {
        "id": "H9Y6_tKDiqEw"
      },
      "source": [
        "Simiarly to the previous tutorial, you will create a function, but one that discribes the exponential charging of an RC circuit.\n",
        "\n",
        "$v = v_0(1-exp(-t/\\tau))$\n",
        "\n",
        "where tau is the RC time constant and v0 is the maximum voltage the circuit will acheive. Use the RC values descirbed in the slides and v0 = 1 V."
      ]
    },
    {
      "cell_type": "code",
      "metadata": {
        "id": "Z48w7XM7ipW-"
      },
      "source": [
        "# Create the exponential curve\n",
        "\n",
        "def rc_exponential(t, parameters):\n",
        "  '''\n",
        "  Plots an RC exponential charging curve\n",
        "  \n",
        "  Inputs:\n",
        "    t: time\n",
        "    parameters: [initial voltage, time constant]\n",
        "  '''\n",
        "\n",
        "  return v\n",
        "\n",
        "def get_residuals_rc(parameters, data, t):\n",
        "  residuals = np.abs(data - rc_exponential(t, parameters))\n",
        "  return -residuals"
      ],
      "execution_count": null,
      "outputs": []
    },
    {
      "cell_type": "code",
      "metadata": {
        "colab": {
          "base_uri": "https://localhost:8080/",
          "height": 282
        },
        "id": "ZTnx9Gbwkenu",
        "outputId": "789ad667-0df1-469b-8f54-8e14774337d3"
      },
      "source": [
        "# Create a time array that is 5 times the length of the time constant\n",
        "\n",
        "\n",
        "\n",
        "# Call the rc_expnential function and obtain the voltage values\n",
        "\n",
        "\n",
        "\n",
        "\n",
        "# Plot you theoretical function\n",
        "\n",
        "\n"
      ],
      "execution_count": null,
      "outputs": [
        {
          "output_type": "execute_result",
          "data": {
            "text/plain": [
              "[<matplotlib.lines.Line2D at 0x7f541fcca310>]"
            ]
          },
          "metadata": {},
          "execution_count": 26
        },
        {
          "output_type": "display_data",
          "data": {
            "image/png": "[encoded data removed]",
            "text/plain": [
              "<Figure size 432x288 with 1 Axes>"
            ]
          },
          "metadata": {
            "needs_background": "light"
          }
        }
      ]
    },
    {
      "cell_type": "markdown",
      "metadata": {
        "id": "TRQCMruJlad2"
      },
      "source": [
        "Now that you know how to plot a single RC curve, plot the following combinations:\n",
        "\n",
        "Plot 1: 10 uF Capacitor with 100 Ohm Resistor and 10 uF Capacitor with 1k Ohm Resistor\n",
        "\n",
        "Plot 2: 1k Ohm Resistor with 10 uF Capacitor and 1k Ohm Resistor with  100 uF Capacitor\n",
        "\n",
        "To make your graphs look nice and even, choose you time vector to be as a function of the greatest tau value.\n"
      ]
    },
    {
      "cell_type": "code",
      "metadata": {
        "id": "J-LMw-NelvvT"
      },
      "source": [
        "# Plot 1: 10 uF Capacitor with 100 Ohm Resistor and 10 uF Capacitor with 1k Ohm Resistor\n",
        "\n",
        "\n",
        "\n",
        "\n",
        "\n"
      ],
      "execution_count": null,
      "outputs": []
    },
    {
      "cell_type": "code",
      "metadata": {
        "id": "vfXIsInYlw1X"
      },
      "source": [
        "# Plot 2: 1k Ohm Resistor with 10 uF Capacitor and 1k Ohm Resistor with 100 uF Capacitor\n",
        "\n",
        "\n",
        "\n",
        "\n",
        "\n"
      ],
      "execution_count": null,
      "outputs": []
    },
    {
      "cell_type": "markdown",
      "metadata": {
        "id": "m5mrwgAphJUR"
      },
      "source": [
        "Take your RC charge plot you created in the previous python notebook and add 5-10% noise to it. After adding noise to your theoretical plot, create"
      ]
    },
    {
      "cell_type": "code",
      "metadata": {
        "colab": {
          "base_uri": "https://localhost:8080/",
          "height": 265
        },
        "id": "jmlXYtQTmDSR",
        "outputId": "97e954d9-cb8c-48ae-e747-f8a571c164c4"
      },
      "source": [
        "# Add 5-10% noise to a single theoretical curve and plot it with the actual theoretical curve\n",
        "\n",
        "\n",
        "\n",
        "\n",
        "\n"
      ],
      "execution_count": null,
      "outputs": [
        {
          "output_type": "display_data",
          "data": {
            "image/png": "[encoded data removed]",
            "text/plain": [
              "<Figure size 432x288 with 1 Axes>"
            ]
          },
          "metadata": {
            "needs_background": "light"
          }
        }
      ]
    },
    {
      "cell_type": "markdown",
      "metadata": {
        "id": "yPQJ0fnJnNDY"
      },
      "source": [
        "Lastly, take your noisy data and fit a the theoretical function back to it.\n",
        "\n",
        "Plot all 3: Theoretical, Noisy, and Fit. \n",
        "\n",
        "Did the input plot paramters change?"
      ]
    },
    {
      "cell_type": "code",
      "metadata": {
        "colab": {
          "base_uri": "https://localhost:8080/",
          "height": 282
        },
        "id": "QMjHbpqvnIuB",
        "outputId": "04b2582c-ac31-459a-e8dd-757e6b45608f"
      },
      "source": [
        "# Perform least squares fit\n",
        "\n",
        "\n",
        "\n",
        "\n",
        "# Create a fit curve\n",
        "\n",
        "\n",
        "\n",
        "\n",
        "# Plot all 3 plots together and show legend\n",
        "\n",
        "\n",
        "\n"
      ],
      "execution_count": null,
      "outputs": [
        {
          "output_type": "stream",
          "name": "stdout",
          "text": [
            "[0.9995849  0.01012585]\n"
          ]
        },
        {
          "output_type": "display_data",
          "data": {
            "image/png": "[encoded data removed]",
            "text/plain": [
              "<Figure size 432x288 with 1 Axes>"
            ]
          },
          "metadata": {
            "needs_background": "light"
          }
        }
      ]
    },
    {
      "cell_type": "markdown",
      "metadata": {
        "id": "o9pDN0sp0N4H"
      },
      "source": [
        "*Developed by P. Arriaga* \n",
        "\n",
        "*rev. 2.1 E. Kramer 04-15-2021*\n",
        "\n",
        "*rev. 2.2 J. Carmona 10-15-2021*\n",
        "\n",
        "*© Regents of the University of California*\n"
      ]
    },
    {
      "cell_type": "code",
      "metadata": {
        "id": "Ek-jVRjFgvrT"
      },
      "source": [
        ""
      ],
      "execution_count": null,
      "outputs": []
    }
  ]
}