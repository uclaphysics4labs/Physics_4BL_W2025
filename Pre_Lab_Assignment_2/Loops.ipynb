{
  "nbformat": 4,
  "nbformat_minor": 0,
  "metadata": {
    "colab": {
      "name": "Loops.ipynb",
      "provenance": [],
      "collapsed_sections": []
    },
    "kernelspec": {
      "name": "python3",
      "display_name": "Python 3"
    }
  },
  "cells": [
    {
      "cell_type": "markdown",
      "metadata": {
        "id": "orI40r8lyCIH"
      },
      "source": [
        "# Loop tutorial"
      ]
    },
    {
      "cell_type": "markdown",
      "metadata": {
        "id": "kDcni7C94IW-"
      },
      "source": [
        "A loop, like its name suggests, is a coding technique that runs the same snippet of code over and over again.  Many loops have pre-determined break conditions where the loop will end and the program will move onto the next segment of code.  These conditions may be after the loop has run a specififed amount of times or when some external condtion is met (such as a certain time has passed or the program got input from a user or other program).  There are also times when loops will never end running, such as the main function of an Arduino code [the \"void loop()\"].  Loops are extremely powerful in coding and can save you a lot of time. For example let's say we have a 5 sets data from an experiment saved in an array where each row represents a different set of data."
      ]
    },
    {
      "cell_type": "code",
      "metadata": {
        "id": "eSDUHYqP4d06",
        "colab": {
          "base_uri": "https://localhost:8080/",
          "height": 121
        },
        "outputId": "b1954f8b-501a-4ece-d3ba-ae1a47f12b27"
      },
      "source": [
        "#Importing plt and np\n",
        "import matplotlib.pyplot as plt\n",
        "import numpy as np\n",
        "\n",
        "#Time values\n",
        "time = [1,2,3,4]\n",
        "\n",
        "#Mock Data where each row is a differnt data set (ie dataSet1 = [1,2,5,7], dataSet2=[2,4,6,8], ect...)\n",
        "data = np.array([np.array([1,2,5,7]),np.array([2,4,6,8]),np.array([1.5,3.5,5.5,7.5]),np.array([2.5,3,4.5,5.5]),np.array([5,7,9,11])])\n",
        "print(\"The Data Array is\")\n",
        "print(data)"
      ],
      "execution_count": null,
      "outputs": [
        {
          "output_type": "stream",
          "text": [
            "The Data Array is\n",
            "[[ 1.   2.   5.   7. ]\n",
            " [ 2.   4.   6.   8. ]\n",
            " [ 1.5  3.5  5.5  7.5]\n",
            " [ 2.5  3.   4.5  5.5]\n",
            " [ 5.   7.   9.  11. ]]\n"
          ],
          "name": "stdout"
        }
      ]
    },
    {
      "cell_type": "code",
      "metadata": {
        "id": "ABZ5vxSqb8HV",
        "colab": {
          "base_uri": "https://localhost:8080/",
          "height": 52
        },
        "outputId": "f6cc24b4-f1f9-4cdf-91f4-36db979d6bf6"
      },
      "source": [
        "#Mock Constant modifers Cn (C1 is the first value (3), C2 is the second value(2), ect...)\n",
        "Cn = np.array([3,2,1,1.5,0.5])\n",
        "print(\"The Constant Array is\")\n",
        "print(Cn)"
      ],
      "execution_count": null,
      "outputs": [
        {
          "output_type": "stream",
          "text": [
            "The Constant Array is\n",
            "[3.  2.  1.  1.5 0.5]\n"
          ],
          "name": "stdout"
        }
      ]
    },
    {
      "cell_type": "markdown",
      "metadata": {
        "id": "ZwakqAyt9om5"
      },
      "source": [
        "Let's say for analysis we need to multiply each data set by it's specific constant value (Cn) and then plot it vs time.  Without a loop our code might look something like this:"
      ]
    },
    {
      "cell_type": "code",
      "metadata": {
        "id": "Iuxn0FxL9uGp",
        "colab": {
          "base_uri": "https://localhost:8080/",
          "height": 312
        },
        "outputId": "9f1853ff-b7cd-44b2-cd88-055837a8a609"
      },
      "source": [
        "# Allocating memory on the computer for the new data\n",
        "dataSetnew=np.zeros((5,4))\n",
        "\n",
        "# Multiplying the Data Sets by the constant C\n",
        "dataSetnew[0,:] = data[0,:]*Cn[0] #Recall that the first index of an array is 0 so C1 is actually at index C[0]\n",
        "dataSetnew[1,:] = data[1,:]*Cn[1]\n",
        "dataSetnew[2,:] = data[2,:]*Cn[2]\n",
        "dataSetnew[3,:] = data[3,:]*Cn[3] \n",
        "dataSetnew[4,:] = data[4,:]*Cn[4]\n",
        "\n",
        "# Plotting the data sets vs time \n",
        "plt.scatter(time,dataSetnew[0,:])\n",
        "plt.scatter(time,dataSetnew[1,:])\n",
        "plt.scatter(time,dataSetnew[2,:])\n",
        "plt.scatter(time,dataSetnew[3,:])\n",
        "plt.scatter(time,dataSetnew[4,:])\n",
        "\n",
        "#Setting plot parameters\n",
        "plt.xlim([0,5])\n",
        "plt.xlabel('Time (Sec)')\n",
        "plt.ylabel('Data (Units)')\n",
        "plt.title('No Loop Plot')"
      ],
      "execution_count": null,
      "outputs": [
        {
          "output_type": "execute_result",
          "data": {
            "text/plain": [
              "Text(0.5, 1.0, 'No Loop Plot')"
            ]
          },
          "metadata": {
            "tags": []
          },
          "execution_count": 3
        },
        {
          "output_type": "display_data",
          "data": {
            "image/png": "[encoded data removed]",
            "text/plain": [
              "<Figure size 432x288 with 1 Axes>"
            ]
          },
          "metadata": {
            "tags": [],
            "needs_background": "light"
          }
        }
      ]
    },
    {
      "cell_type": "markdown",
      "metadata": {
        "id": "vhtzjiAlKjqP"
      },
      "source": [
        "While it is not difficult to copy, paste, and slightly modify simple bits code with five data sets, imagine if you had thousands of data sets.  Luckily loops can do this for us with very little code.  There are several types of loops, but the main two are For loops and While loops.  Let's look at a For loop first.  For loops typically run using a counter variables to keep track of how many times the loop is run.  When the counter goes beyond the total amount of loops desired, the loop ends.  Here is an example of how we can turn the above code into a For loop."
      ]
    },
    {
      "cell_type": "code",
      "metadata": {
        "id": "NYO3Cq8WQnSv",
        "colab": {
          "base_uri": "https://localhost:8080/",
          "height": 312
        },
        "outputId": "1f0af157-4ab4-4772-9ee6-d23c265ac2ad"
      },
      "source": [
        "# Allocating memory on the computer for the new data\n",
        "dataSetnew=np.zeros((5,4))\n",
        "\n",
        "NumOfDataSets = 5 #The amount of data sets we have\n",
        "\n",
        "# For Loop - NOTE THAT INDENTATIONS ARE IMPORTANT - Only code that is indented under the for will be part of the loop\n",
        "for i in range(0, NumOfDataSets): # i is the counter which will start at 0 and loop\n",
        "    dataSetnew[i,:] = data[i,:]*Cn[i] # Every loop i changes allowing us to use it inside the loop to call different variables\n",
        "    plt.scatter(time,dataSetnew[i,:]) # i increases by 1 after this line is completed and the loop goes back to the start\n",
        "\n",
        "# Setting plot parameters\n",
        "plt.xlim([0,5])\n",
        "plt.xlabel('Time (Sec)')\n",
        "plt.ylabel('Data (Units)')\n",
        "plt.title('For Loop Plot')\n",
        "\n"
      ],
      "execution_count": null,
      "outputs": [
        {
          "output_type": "execute_result",
          "data": {
            "text/plain": [
              "Text(0.5, 1.0, 'For Loop Plot')"
            ]
          },
          "metadata": {
            "tags": []
          },
          "execution_count": 5
        },
        {
          "output_type": "display_data",
          "data": {
            "image/png": "[encoded data removed]",
            "text/plain": [
              "<Figure size 432x288 with 1 Axes>"
            ]
          },
          "metadata": {
            "tags": [],
            "needs_background": "light"
          }
        }
      ]
    },
    {
      "cell_type": "markdown",
      "metadata": {
        "id": "eyuEeF3xfUnu"
      },
      "source": [
        "The most general syntax structure of a for loop is as follows. You can modify it from here to fit your coding needs. Start is the number i will begin at, stop is the number that when i exceeds that value the loop will end, and stepSize is how much i increases after the Looped code is executed."
      ]
    },
    {
      "cell_type": "code",
      "metadata": {
        "id": "vhlIuvBwfasC"
      },
      "source": [
        "for i in range(start, stop, stepSize):\n",
        "    #Looped code goes here"
      ],
      "execution_count": null,
      "outputs": []
    },
    {
      "cell_type": "markdown",
      "metadata": {
        "id": "ooSfATc-gFIp"
      },
      "source": [
        "Another useful type of loop is the While loop.  The while loop makes it easier to have code loop until an outside condition is met as opposed to looping a specified number of times.  That being said, while loops and for loops can be used to achieve the same tasks, so it is up to you to figure out what you think is the best practice for your application. Here is what our above For loop would look like as a While loop with the 5 data sets."
      ]
    },
    {
      "cell_type": "code",
      "metadata": {
        "id": "zCcOpuWTgkUE",
        "colab": {
          "base_uri": "https://localhost:8080/",
          "height": 312
        },
        "outputId": "c3f3edac-4649-4e49-feeb-ffd6fa16d9e4"
      },
      "source": [
        "NumOfDataSets = 5\n",
        "i = 0 #initialize our counter.  For loops do this within the for statement\n",
        "\n",
        "while i < NumOfDataSets:\n",
        "    dataSetnew[i,:] = data[i,:]*Cn[i] # Every loop i changes allowing us to use it inside the loop to call different variables\n",
        "    plt.scatter(time,dataSetnew[i,:])\n",
        "    i += 1  # This is the same as count = count + 1. Note that For loops do this automatically. While loops do not\n",
        "\n",
        "# Setting plot parameters\n",
        "plt.xlim([0,5])\n",
        "plt.xlabel('Time (Sec)')\n",
        "plt.ylabel('Data (Units)')\n",
        "plt.title('While Loop Plot')"
      ],
      "execution_count": null,
      "outputs": [
        {
          "output_type": "execute_result",
          "data": {
            "text/plain": [
              "Text(0.5, 1.0, 'While Loop Plot')"
            ]
          },
          "metadata": {
            "tags": []
          },
          "execution_count": 9
        },
        {
          "output_type": "display_data",
          "data": {
            "image/png": "[encoded data removed]",
            "text/plain": [
              "<Figure size 432x288 with 1 Axes>"
            ]
          },
          "metadata": {
            "tags": [],
            "needs_background": "light"
          }
        }
      ]
    },
    {
      "cell_type": "markdown",
      "metadata": {
        "id": "9Xar8VADhlup"
      },
      "source": [
        "The most general syntax structure of a for while is as follows. Again you can modify it from here to fit your coding needs. Some condition statements may use >, <, operators or just be 1 for an infinite loop."
      ]
    },
    {
      "cell_type": "code",
      "metadata": {
        "id": "C9Pt-2nuhup1"
      },
      "source": [
        "while condition:  #The condition is any statement that evaulates as true (1) or false (0)\n",
        "       #Looped code goes here"
      ],
      "execution_count": null,
      "outputs": []
    },
    {
      "cell_type": "markdown",
      "metadata": {
        "id": "GAXymBxCga-c"
      },
      "source": [
        "These are just the basics of loops.  More advanced loop techniques exist, and if you are interested in coding there are many great resources online!"
      ]
    },
    {
      "cell_type": "markdown",
      "metadata": {
        "id": "WvM5vcysiLmw"
      },
      "source": [
        "# Fourier Series Square Wave Loop"
      ]
    },
    {
      "cell_type": "markdown",
      "metadata": {
        "id": "HmeqRor3lQwz"
      },
      "source": [
        "Now that you have a basic grasp on loops, let's apply it to a Fourier Series.  Recall that a square wave can be broken down into a Fourier Series.  Using the Fourier Series equation for a square wave, write a loop to plot the series for n = 1...3, n = 1...9, and n = 1...49.  Does the higher n value make the wave look more square?  Assume L = 0.01 (half the period). Hint: if you initialize your function f(x) to zero before the loop, you can increase it as a running sum using f(x) = f(x) + new term\n",
        "\n",
        "![alt text](https://i.imgur.com/TtczIGZ.png)"
      ]
    },
    {
      "cell_type": "code",
      "metadata": {
        "id": "Q1xA1UFFwAfS"
      },
      "source": [
        "# x data\n",
        "x = np.linspace(-0.01,0.01,1000) \n",
        "L = 0.01 # half the period\n",
        "\n",
        "# Initial Sums\n",
        "f3 = 0 # n=1..3\n",
        "f9 = 0 # n=1..9\n",
        "f49 = 0 # n=1..49\n",
        "\n",
        "\n",
        "f1 = #Fill in code here\n",
        "\n",
        "\n",
        "for n in range(start, stop, step): #edit these values\n",
        "    f3 = #Fill in code here\n",
        "\n",
        "\n",
        "for n in range(start, stop, step): #edit these values\n",
        "    f9 = #Fill in code here\n",
        "\n",
        "\n",
        "for n in range(start, stop, step): #edit these values\n",
        "    f49 = #Fill in code here\n",
        "\n",
        "# Make the plots\n",
        "plt.plot(x, f1, label=\"n=1\")\n",
        "plt.plot(x, f3, label=\"n=1..3\")\n",
        "plt.plot(x, f9, label=\"n=1..9\")\n",
        "plt.plot(x, f49, label=\"n=1..49\")\n",
        "\n",
        "# Plot settings\n",
        "plt.title(\"Square Wave Fourier Series\")\n",
        "plt.legend()\n",
        "plt.xlim([-0.01,0.01])  \n",
        "plt.xlabel(\"Time (sec)\")\n",
        "plt.ylabel(\"Intensity\")  "
      ],
      "execution_count": null,
      "outputs": []
    },
    {
      "cell_type": "markdown",
      "metadata": {
        "id": "_8BirPdpI39d"
      },
      "source": [
        "*Developed by E. Kramer* \n",
        "\n",
        "*© Regents of the University of California*\n"
      ]
    }
  ]
}