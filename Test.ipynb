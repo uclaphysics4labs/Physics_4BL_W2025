{
 "cells": [
  {
   "cell_type": "code",
   "execution_count": null,
   "id": "1b44ce2e-d41b-41b5-b9e3-8b96d1533e77",
   "metadata": {},
   "outputs": [],
   "source": [
    "THIS IS A TEST"
   ]
  }
 ],
 "metadata": {
  "kernelspec": {
   "display_name": "Python 3 (ipykernel)",
   "language": "python",
   "name": "python3"
  },
  "language_info": {
   "codemirror_mode": {
    "name": "ipython",
    "version": 3
   },
   "file_extension": ".py",
   "mimetype": "text/x-python",
   "name": "python",
   "nbconvert_exporter": "python",
   "pygments_lexer": "ipython3",
   "version": "3.11.8"
  }
 },
 "nbformat": 4,
 "nbformat_minor": 5
}
